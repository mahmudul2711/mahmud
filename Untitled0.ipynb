{
  "nbformat": 4,
  "nbformat_minor": 0,
  "metadata": {
    "colab": {
      "name": "Untitled0.ipynb",
      "provenance": [],
      "collapsed_sections": [],
      "authorship_tag": "ABX9TyMoTotjGjKUQUssOk2sysOS",
      "include_colab_link": true
    },
    "kernelspec": {
      "name": "python3",
      "display_name": "Python 3"
    }
  },
  "cells": [
    {
      "cell_type": "markdown",
      "metadata": {
        "id": "view-in-github",
        "colab_type": "text"
      },
      "source": [
        "<a href=\"https://colab.research.google.com/github/mahmudul2711/mahmud/blob/main/Untitled0.ipynb\" target=\"_parent\"><img src=\"https://colab.research.google.com/assets/colab-badge.svg\" alt=\"Open In Colab\"/></a>"
      ]
    },
    {
      "cell_type": "code",
      "metadata": {
        "colab": {
          "base_uri": "https://localhost:8080/"
        },
        "id": "s17vgW7JDmke",
        "outputId": "b5c5fda0-a980-4c9a-8488-b4d0dc1a2b11"
      },
      "source": [
        "collection = []\r\n",
        "choice = 'meao'\r\n",
        "\r\n",
        "def greeting():\r\n",
        "    print('\\nAssalamuAlaikum Viewer\\n')\r\n",
        "\r\n",
        "def line():\r\n",
        "    print('<<<<<<<<<<<<<<<<')\r\n",
        "\r\n",
        "def show_menu():\r\n",
        "    greeting()\r\n",
        "    print('MENU')\r\n",
        "    line()\r\n",
        "    print('1.Add course')\r\n",
        "    print('2.Remove course')\r\n",
        "    print('3.View course')\r\n",
        "    print('4.Exit')\r\n",
        "    line()\r\n",
        "    choice = input('Enter your choice: ')\r\n",
        "    return choice\r\n",
        "\r\n",
        "while choice != '4':\r\n",
        "    choice = show_menu()\r\n",
        "    if choice == '1':\r\n",
        "        course = input('Which course want to add? ')\r\n",
        "        collection.append(course)\r\n",
        "        print('course', course,'added\\n')\r\n",
        "    elif choice == '2':\r\n",
        "        course = input('Which course want to remove? ')\r\n",
        "        if course in collection:\r\n",
        "            collection.remove(course)\r\n",
        "            print('Removed course', course)\r\n",
        "        else:\r\n",
        "            print('Not found', course)\r\n",
        "    elif choice == '3':\r\n",
        "        print('Show the courses:')\r\n",
        "        for course in collection:\r\n",
        "            print(course)\r\n",
        "    elif choice == '4':\r\n",
        "        print('Thank you\\n')\r\n",
        "    else:\r\n",
        "        print('Please enter one of 1 to 4 \\n')"
      ],
      "execution_count": null,
      "outputs": [
        {
          "output_type": "stream",
          "text": [
            "\n",
            "AssalamuAlaikum Viewer\n",
            "\n",
            "MENU\n",
            "<<<<<<<<<<<<<<<<\n",
            "1.Add course\n",
            "2.Remove course\n",
            "3.View course\n",
            "4.Exit\n",
            "<<<<<<<<<<<<<<<<\n",
            "Enter your choice: 1\n",
            "Which course want to add? DBMS\n",
            "course DBMS added\n",
            "\n",
            "\n",
            "AssalamuAlaikum Viewer\n",
            "\n",
            "MENU\n",
            "<<<<<<<<<<<<<<<<\n",
            "1.Add course\n",
            "2.Remove course\n",
            "3.View course\n",
            "4.Exit\n",
            "<<<<<<<<<<<<<<<<\n",
            "Enter your choice: 1\n",
            "Which course want to add? AI\n",
            "course AI added\n",
            "\n",
            "\n",
            "AssalamuAlaikum Viewer\n",
            "\n",
            "MENU\n",
            "<<<<<<<<<<<<<<<<\n",
            "1.Add course\n",
            "2.Remove course\n",
            "3.View course\n",
            "4.Exit\n",
            "<<<<<<<<<<<<<<<<\n",
            "Enter your choice: 3\n",
            "Show the courses:\n",
            "DBMS\n",
            "AI\n",
            "\n",
            "AssalamuAlaikum Viewer\n",
            "\n",
            "MENU\n",
            "<<<<<<<<<<<<<<<<\n",
            "1.Add course\n",
            "2.Remove course\n",
            "3.View course\n",
            "4.Exit\n",
            "<<<<<<<<<<<<<<<<\n",
            "Enter your choice: 2\n",
            "Which course want to remove? AI\n",
            "Removed course AI\n",
            "\n",
            "AssalamuAlaikum Viewer\n",
            "\n",
            "MENU\n",
            "<<<<<<<<<<<<<<<<\n",
            "1.Add course\n",
            "2.Remove course\n",
            "3.View course\n",
            "4.Exit\n",
            "<<<<<<<<<<<<<<<<\n"
          ],
          "name": "stdout"
        }
      ]
    }
  ]
}